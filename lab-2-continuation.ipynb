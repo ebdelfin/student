{
 "cells": [
  {
   "cell_type": "code",
   "execution_count": 2,
   "metadata": {},
   "outputs": [],
   "source": [
    "import math"
   ]
  },
  {
   "cell_type": "code",
   "execution_count": 3,
   "metadata": {},
   "outputs": [
    {
     "data": {
      "text/plain": [
       "1.4142135623730951"
      ]
     },
     "execution_count": 3,
     "metadata": {},
     "output_type": "execute_result"
    }
   ],
   "source": [
    "math.sqrt(2)"
   ]
  },
  {
   "cell_type": "code",
   "execution_count": 3,
   "metadata": {},
   "outputs": [
    {
     "data": {
      "text/plain": [
       "1.4142135623730951"
      ]
     },
     "execution_count": 3,
     "metadata": {},
     "output_type": "execute_result"
    }
   ],
   "source": [
    "import numpy as np\n",
    "np.sqrt(2)"
   ]
  },
  {
   "cell_type": "code",
   "execution_count": 8,
   "metadata": {},
   "outputs": [],
   "source": [
    "from random import randint\n",
    "r = randint(0,10000)\n",
    "# random.seed(r) random module not available, only randint"
   ]
  },
  {
   "cell_type": "code",
   "execution_count": 4,
   "metadata": {},
   "outputs": [],
   "source": [
    "from math import sqrt"
   ]
  },
  {
   "cell_type": "code",
   "execution_count": 4,
   "metadata": {},
   "outputs": [
    {
     "data": {
      "text/plain": [
       "1.4142135623730951"
      ]
     },
     "execution_count": 4,
     "metadata": {},
     "output_type": "execute_result"
    }
   ],
   "source": [
    "sqrt(2)"
   ]
  },
  {
   "cell_type": "code",
   "execution_count": 13,
   "metadata": {},
   "outputs": [
    {
     "data": {
      "text/plain": [
       "5"
      ]
     },
     "execution_count": 13,
     "metadata": {},
     "output_type": "execute_result"
    }
   ],
   "source": [
    "#sum of squares of all positive integers less than or equal to x\n",
    "def sum_of_squares(x):\n",
    "    return sum([i**2 for i in range(1,x)])\n",
    "sum_of_squares(3) #should be 14"
   ]
  },
  {
   "cell_type": "code",
   "execution_count": 14,
   "metadata": {},
   "outputs": [
    {
     "data": {
      "text/plain": [
       "14"
      ]
     },
     "execution_count": 14,
     "metadata": {},
     "output_type": "execute_result"
    }
   ],
   "source": [
    "def sum_of_squares(x):\n",
    "    return sum([i**2 for i in range(1,x+1)])\n",
    "sum_of_squares(3) #should be 14"
   ]
  },
  {
   "cell_type": "code",
   "execution_count": 15,
   "metadata": {},
   "outputs": [],
   "source": [
    "import math\n",
    "math?"
   ]
  },
  {
   "cell_type": "code",
   "execution_count": 16,
   "metadata": {},
   "outputs": [],
   "source": [
    "math.sqrt?"
   ]
  },
  {
   "cell_type": "code",
   "execution_count": 4,
   "metadata": {},
   "outputs": [
    {
     "data": {
      "text/plain": [
       "['a', 'b', 'c', 'd', 'e', 'f', 'g']"
      ]
     },
     "execution_count": 4,
     "metadata": {},
     "output_type": "execute_result"
    }
   ],
   "source": [
    "from itertools import chain, cycle\n",
    "list(chain(\"abc\", [\"d\", \"e\"], ('f', 'g'))) #join several sequences"
   ]
  },
  {
   "cell_type": "code",
   "execution_count": 23,
   "metadata": {},
   "outputs": [
    {
     "name": "stdout",
     "output_type": "stream",
     "text": [
      "0 1 2 3 0 1 2 3 0 1 2 "
     ]
    }
   ],
   "source": [
    "#cycle iterate over an iterable repeatedly\n",
    "for i, number in enumerate(cycle(range(4))):\n",
    "    if i>10:\n",
    "        break\n",
    "    print(number, end=' ')"
   ]
  },
  {
   "cell_type": "code",
   "execution_count": 5,
   "metadata": {},
   "outputs": [
    {
     "name": "stdout",
     "output_type": "stream",
     "text": [
      "[('A', 'B'), ('A', 'C'), ('B', 'C')]\n",
      "[('A', 'B'), ('A', 'C'), ('B', 'A'), ('B', 'C'), ('C', 'A'), ('C', 'B')]\n"
     ]
    }
   ],
   "source": [
    "from itertools import combinations, permutations\n",
    "\n",
    "#Get all combinations of length 2 from the iterable \"ABC\"\n",
    "print(list(combinations(\"ABC\", 2)))\n",
    "\n",
    "#Get all permutations of length 2 from \"ABC\". Note that order matters.\n",
    "print(list(permutations(\"ABC\", 2)))"
   ]
  },
  {
   "cell_type": "code",
   "execution_count": 3,
   "metadata": {},
   "outputs": [],
   "source": [
    "#chain is to iterate over several iterables in sequence\n",
    "def powerset(iterable):\n",
    "    s = list(iterable)\n",
    "    return chain.from_iterable(combinations(s, r) for r in range(len(s)+1))"
   ]
  },
  {
   "cell_type": "code",
   "execution_count": 35,
   "metadata": {},
   "outputs": [
    {
     "data": {
      "text/plain": [
       "[(),\n",
       " ('A',),\n",
       " ('B',),\n",
       " ('C',),\n",
       " ('A', 'B'),\n",
       " ('A', 'C'),\n",
       " ('B', 'C'),\n",
       " ('A', 'B', 'C')]"
      ]
     },
     "execution_count": 35,
     "metadata": {},
     "output_type": "execute_result"
    }
   ],
   "source": [
    "list(powerset(\"ABC\"))"
   ]
  },
  {
   "cell_type": "code",
   "execution_count": 6,
   "metadata": {},
   "outputs": [
    {
     "name": "stdout",
     "output_type": "stream",
     "text": [
      "[1, 2, 3, 4, 5, 6, 7, 8, 9, 10]\n",
      "[5, 9, 1, 2, 4, 8, 10, 3, 6, 7]\n"
     ]
    }
   ],
   "source": [
    "#random module is taking random samples from a probability ditribution\n",
    "import random\n",
    "numbers = list(range(1,11)) #get integers from 1 to 10\n",
    "print(numbers)\n",
    "\n",
    "random.shuffle(numbers) #mix up the ordering of the list\n",
    "print(numbers)"
   ]
  },
  {
   "cell_type": "code",
   "execution_count": 28,
   "metadata": {},
   "outputs": [
    {
     "data": {
      "text/plain": [
       "6"
      ]
     },
     "execution_count": 28,
     "metadata": {},
     "output_type": "execute_result"
    }
   ],
   "source": [
    "random.choice(numbers) #choose a random element from sequence (list)"
   ]
  },
  {
   "cell_type": "code",
   "execution_count": 29,
   "metadata": {},
   "outputs": [
    {
     "data": {
      "text/plain": [
       "[10, 6, 5, 8]"
      ]
     },
     "execution_count": 29,
     "metadata": {},
     "output_type": "execute_result"
    }
   ],
   "source": [
    "random.sample(numbers, 4) #pick 4 unique elements from the list"
   ]
  },
  {
   "cell_type": "code",
   "execution_count": 30,
   "metadata": {},
   "outputs": [
    {
     "data": {
      "text/plain": [
       "8"
      ]
     },
     "execution_count": 30,
     "metadata": {},
     "output_type": "execute_result"
    }
   ],
   "source": [
    "random.randint(1,10) #pick a random number between 1 and 10"
   ]
  },
  {
   "cell_type": "code",
   "execution_count": 11,
   "metadata": {},
   "outputs": [
    {
     "data": {
      "text/plain": [
       "1563180619.3933306"
      ]
     },
     "execution_count": 11,
     "metadata": {},
     "output_type": "execute_result"
    }
   ],
   "source": [
    "#time module include functionf or dealing w/ time\n",
    "import time\n",
    "time.time() #how long it takes for code to run."
   ]
  },
  {
   "cell_type": "code",
   "execution_count": 33,
   "metadata": {},
   "outputs": [
    {
     "data": {
      "text/plain": [
       "0.0030019283294677734"
      ]
     },
     "execution_count": 33,
     "metadata": {},
     "output_type": "execute_result"
    }
   ],
   "source": [
    "#time it takes to iterate \"iters\" times\n",
    "def time_for_loop(iters):\n",
    "    start = time.time() #starting time clocked\n",
    "    for _ in range(int(iters)):\n",
    "        pass\n",
    "    end = time.time() #ending time clocked\n",
    "    return end-start\n",
    "\n",
    "time_for_loop(100000)"
   ]
  },
  {
   "cell_type": "code",
   "execution_count": 12,
   "metadata": {},
   "outputs": [
    {
     "name": "stdout",
     "output_type": "stream",
     "text": [
      "Exactly one extra command line argument is required\n",
      "System Arguments: ['C:\\\\ProgramData\\\\Anaconda3\\\\lib\\\\site-packages\\\\ipykernel_launcher.py', '-f', 'C:\\\\Users\\\\kjasoriano\\\\AppData\\\\Roaming\\\\jupyter\\\\runtime\\\\kernel-8d1d801a-4deb-4a2e-a583-43b842c5f553.json']\n"
     ]
    }
   ],
   "source": [
    "#sys.argv is a list of arguments passed to interpreter when it runs a\n",
    "#Python file. Sys module includes methods for interaction w/ Python\n",
    "import sys\n",
    "\n",
    "if len(sys.argv) == 2:\n",
    "    print(sys.argv[1].upper())\n",
    "else:\n",
    "    print(\"Exactly one extra command line argument is required\")\n",
    "    print(\"System Arguments:\", sys.argv)"
   ]
  },
  {
   "cell_type": "code",
   "execution_count": 21,
   "metadata": {},
   "outputs": [],
   "source": [
    "def prob2(x,y):\n",
    "    \"\"\"Determine which Python objects are mutable and which are immutable.\n",
    "    Test numbers, strings, lists, tuples, and sets. Print your results.\n",
    "    \"\"\"\n",
    "    x=copy\n",
    "    copy=y\n",
    "    \n",
    "    if x==y:\n",
    "        print(object_type, \"is mutable\")\n",
    "    else:\n",
    "        print(object_type, \"is immutable\")\n",
    "    raise NotImplementedError(\"Problem 2 Incomplete\")"
   ]
  },
  {
   "cell_type": "code",
   "execution_count": 48,
   "metadata": {},
   "outputs": [],
   "source": [
    "\n",
    "def prob2(x):\n",
    "    \"\"\"Determine which Python objects are mutable and which are immutable.\n",
    "    Test numbers, strings, lists, tuples, and sets. Print your results.\n",
    "    \"\"\"\n",
    "    \n",
    "    \n",
    "    if type(x)== int:\n",
    "        my_int = x\n",
    "        my_int = randint\n",
    "        if x == my_int:\n",
    "            print(type(x), \"is mutable\")\n",
    "        else:\n",
    "            print(type(x), \"is immutable\")\n",
    "    \n",
    "    elif type(x)==str:\n",
    "        my_str = x\n",
    "        my_str = str(\"Banana\")\n",
    "        if x == my_str:\n",
    "            print(type(x), \"is mutable\")\n",
    "        else:\n",
    "            print(type(x), \"is immutable\")\n",
    "    \n",
    "    elif type(x)==list:\n",
    "        my_list = x\n",
    "        my_list[-1] = \"z\"\n",
    "        if x == my_list:\n",
    "            print(type(x), \"is mutable\")\n",
    "        else:\n",
    "            print(type(x), \"is immutable\")\n",
    "\n",
    "#     raise NotImplementedError(\"Problem 2 Incomplete\")"
   ]
  },
  {
   "cell_type": "code",
   "execution_count": 50,
   "metadata": {},
   "outputs": [
    {
     "name": "stdout",
     "output_type": "stream",
     "text": [
      "<class 'int'> is immutable\n"
     ]
    }
   ],
   "source": [
    "prob2(5)"
   ]
  },
  {
   "cell_type": "code",
   "execution_count": 28,
   "metadata": {},
   "outputs": [
    {
     "name": "stdout",
     "output_type": "stream",
     "text": [
      "<class 'dict'> is immutable\n"
     ]
    }
   ],
   "source": [
    "x=5\n",
    "if type(x)== int:\n",
    "    x = copy\n",
    "    copy = 5\n",
    "    if x == copy:\n",
    "        print(type(x), \"is mutable\")\n",
    "    else:\n",
    "        print(type(x), \"is immutable\")\n",
    "\n",
    "elif type(x)==str:\n",
    "    x = copy\n",
    "    copy = str(\"Banana\")\n",
    "    if x == copy:\n",
    "        print(type(x), \"is mutable\")\n",
    "    else:\n",
    "        print(type(x), \"is immutable\")\n",
    "        \n",
    "elif type(x)==list:\n",
    "    x = copy\n",
    "    copy[-1] = \"z\"\n",
    "    if x == copy:\n",
    "        print(type(x), \"is mutable\")\n",
    "    else:\n",
    "        print(type(x), \"is immutable\")\n"
   ]
  },
  {
   "cell_type": "code",
   "execution_count": 16,
   "metadata": {},
   "outputs": [
    {
     "ename": "SyntaxError",
     "evalue": "invalid syntax (<ipython-input-16-4116bc68af00>, line 27)",
     "output_type": "error",
     "traceback": [
      "\u001b[1;36m  File \u001b[1;32m\"<ipython-input-16-4116bc68af00>\"\u001b[1;36m, line \u001b[1;32m27\u001b[0m\n\u001b[1;33m    print(\"Numbers left:\", a)|\u001b[0m\n\u001b[1;37m                              ^\u001b[0m\n\u001b[1;31mSyntaxError\u001b[0m\u001b[1;31m:\u001b[0m invalid syntax\n"
     ]
    }
   ],
   "source": [
    "# a = [i for i in range(1,10)]\n",
    "# print(\"Numbers left: \", a)\n",
    "# print(\"Roll: \", random.randint(2,13))\n",
    "# x = int(input(\"First number to eliminate: \"))\n",
    "# # y = int(input(\"Second number to eliminate (if not possible input 0):\"))\n",
    "#  if x in a:\n",
    "#         a.remove(x)\n",
    "#         if y in a:\n",
    "#             a.remove(y)\n",
    "\n",
    "\n",
    "a = [i for i in range(1,10)]\n",
    "while a:\n",
    "    print(\"Numbers left: \", a)\n",
    "    print(\"Roll: \", randint(2,13))\n",
    "    x = int(input(\"First number to eliminate: \"))\n",
    "    y = int(input(\"Second number to eliminate (if not possible input 0):\"))\n",
    "    \n",
    "    if x in a:\n",
    "        a.remove(x)\n",
    "        if y in a:\n",
    "            a.remove(y)\n",
    "    else:\n",
    "        print(\"Better luck next time >:)\")\n",
    "        break\n",
    "        \n",
    "print(\"Numbers left:\", a)"
   ]
  },
  {
   "cell_type": "code",
   "execution_count": 21,
   "metadata": {},
   "outputs": [],
   "source": [
    "def sum_of_die():\n",
    "    first_roll = random.randint(1,7)\n",
    "    second_roll = random.randint(1,7)\n",
    "    sum_roll = first_roll + second_roll\n",
    "    print(sum_roll)"
   ]
  },
  {
   "cell_type": "code",
   "execution_count": 22,
   "metadata": {},
   "outputs": [
    {
     "name": "stdout",
     "output_type": "stream",
     "text": [
      "9\n"
     ]
    }
   ],
   "source": [
    "sum_of_die()"
   ]
  },
  {
   "cell_type": "code",
   "execution_count": null,
   "metadata": {},
   "outputs": [],
   "source": []
  }
 ],
 "metadata": {
  "kernelspec": {
   "display_name": "Python 3",
   "language": "python",
   "name": "python3"
  },
  "language_info": {
   "codemirror_mode": {
    "name": "ipython",
    "version": 3
   },
   "file_extension": ".py",
   "mimetype": "text/x-python",
   "name": "python",
   "nbconvert_exporter": "python",
   "pygments_lexer": "ipython3",
   "version": "3.7.1"
  }
 },
 "nbformat": 4,
 "nbformat_minor": 2
}
